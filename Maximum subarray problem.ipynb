{
 "cells": [
  {
   "cell_type": "code",
   "execution_count": 1,
   "metadata": {
    "collapsed": true
   },
   "outputs": [],
   "source": [
    "class Solution:\n",
    "    # @param A, a list of integers\n",
    "    # @return an integer\n",
    "    # 6:57\n",
    "    def maxSubArray(self, A):\n",
    "        if not A:\n",
    "            return 0\n",
    "\n",
    "        curSum = maxSum = A[0]\n",
    "        for num in A[1:]:\n",
    "            curSum = max(num, curSum + num)\n",
    "            maxSum = max(maxSum, curSum)\n",
    "\n",
    "        return maxSum"
   ]
  },
  {
   "cell_type": "markdown",
   "metadata": {},
   "source": [
    "[Maximum subarray problem](https://en.wikipedia.org/wiki/Maximum_subarray_problem)"
   ]
  },
  {
   "cell_type": "code",
   "execution_count": null,
   "metadata": {
    "collapsed": true
   },
   "outputs": [],
   "source": []
  }
 ],
 "metadata": {
  "kernelspec": {
   "display_name": "Python 3",
   "language": "python",
   "name": "python3"
  },
  "language_info": {
   "codemirror_mode": {
    "name": "ipython",
    "version": 3
   },
   "file_extension": ".py",
   "mimetype": "text/x-python",
   "name": "python",
   "nbconvert_exporter": "python",
   "pygments_lexer": "ipython3",
   "version": "3.6.3"
  }
 },
 "nbformat": 4,
 "nbformat_minor": 2
}
